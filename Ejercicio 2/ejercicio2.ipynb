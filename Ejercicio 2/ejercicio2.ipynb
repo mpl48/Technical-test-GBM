{
 "cells": [
  {
   "cell_type": "code",
   "execution_count": null,
   "metadata": {},
   "outputs": [],
   "source": [
    "def parse_input(file_path):\n",
    "    # Abrimos el archivo de entrada para leer sus líneas\n",
    "    with open(file_path, 'r') as file:\n",
    "        data = file.readlines()\n",
    "\n",
    "    i = 0\n",
    "    results = []\n",
    "\n",
    "    # Procesamos cada caso de prueba\n",
    "    while i < len(data):\n",
    "        # Leemos los valores G y P (número de Grandes Premios y número de pilotos)\n",
    "        G, P = map(int, data[i].split())\n",
    "        # Si encontramos \"0 0\", terminamos el procesamiento\n",
    "        if G == 0 and P == 0:\n",
    "            break\n",
    "        i += 1\n",
    "        \n",
    "        races = []\n",
    "        # Leemos los resultados de las carreras\n",
    "        for _ in range(G):\n",
    "            races.append(list(map(int, data[i].split())))\n",
    "            i += 1\n",
    "        \n",
    "        # Leemos el número de sistemas de puntuación\n",
    "        S = int(data[i])\n",
    "        i += 1\n",
    "        \n",
    "        scoring_systems = []\n",
    "        # Leemos cada sistema de puntuación\n",
    "        for _ in range(S):\n",
    "            scoring = list(map(int, data[i].split()))\n",
    "            K = scoring[0]\n",
    "            points = scoring[1:]\n",
    "            scoring_systems.append(points)\n",
    "            i += 1\n",
    "        \n",
    "        # Añadimos los datos leídos a la lista de resultados\n",
    "        results.append((G, P, races, scoring_systems))\n",
    "\n",
    "    return results"
   ]
  },
  {
   "cell_type": "code",
   "execution_count": null,
   "metadata": {},
   "outputs": [],
   "source": [
    "def calculate_points(G, P, races, scoring_system):\n",
    "    # Inicializamos la lista de puntos para cada piloto\n",
    "    points = [0] * P\n",
    "    \n",
    "    # Calculamos los puntos para cada carrera y piloto\n",
    "    for race in races:\n",
    "        for idx, position in enumerate(race):\n",
    "            # Si la posición del piloto está en el rango de puntuación, sumamos los puntos\n",
    "            if position - 1 < len(scoring_system):\n",
    "                points[idx] += scoring_system[position - 1]\n",
    "    \n",
    "    return points"
   ]
  },
  {
   "cell_type": "code",
   "execution_count": null,
   "metadata": {},
   "outputs": [],
   "source": [
    "def find_champions(points):\n",
    "    # Encontramos el puntaje máximo\n",
    "    max_points = max(points)\n",
    "    # Identificamos los pilotos con el puntaje máximo\n",
    "    champions = [i + 1 for i, point in enumerate(points) if point == max_points]\n",
    "    return champions"
   ]
  },
  {
   "cell_type": "code",
   "execution_count": null,
   "metadata": {},
   "outputs": [],
   "source": [
    "def main(file_path):\n",
    "    # Obtenemos los datos procesados de la entrada\n",
    "    results = parse_input(file_path)\n",
    "\n",
    "    # Procesamos cada conjunto de datos\n",
    "    for G, P, races, scoring_systems in results:\n",
    "        for scoring_system in scoring_systems:\n",
    "            # Calculamos los puntos para cada sistema de puntuación\n",
    "            points = calculate_points(G, P, races, scoring_system)\n",
    "            # Encontramos los campeones para ese sistema de puntuación\n",
    "            champions = find_champions(points)\n",
    "            # Imprimimos los campeones\n",
    "            print(\" \".join(map(str, champions)))"
   ]
  },
  {
   "cell_type": "code",
   "execution_count": null,
   "metadata": {},
   "outputs": [],
   "source": [
    "if __name__ == \"__main__\":\n",
    "    # Ejecutamos la función principal con el archivo de entrada especificado\n",
    "    main(\"input.txt\")"
   ]
  },
  {
   "cell_type": "code",
   "execution_count": null,
   "metadata": {},
   "outputs": [],
   "source": []
  }
 ],
 "metadata": {
  "kernelspec": {
   "display_name": "gbm-env",
   "language": "python",
   "name": "python3"
  },
  "language_info": {
   "codemirror_mode": {
    "name": "ipython",
    "version": 3
   },
   "file_extension": ".py",
   "mimetype": "text/x-python",
   "name": "python",
   "nbconvert_exporter": "python",
   "pygments_lexer": "ipython3",
   "version": "3.10.2"
  }
 },
 "nbformat": 4,
 "nbformat_minor": 2
}

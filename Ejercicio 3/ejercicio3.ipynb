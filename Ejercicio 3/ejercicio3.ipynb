{
 "cells": [
  {
   "cell_type": "code",
   "execution_count": null,
   "metadata": {},
   "outputs": [],
   "source": [
    "def min_jumps(x):\n",
    "    k = 0\n",
    "    position = 0\n",
    "    # Incrementamos k mientras la posición actual más el salto no alcanza o supera a x\n",
    "    while position < x:\n",
    "        k += 1\n",
    "        position += k\n",
    "    # Si nos pasamos del punto, ajustamos con saltos hacia atrás\n",
    "    while (position - x) % 2 != 0:\n",
    "        k += 1\n",
    "        position += k\n",
    "    return k"
   ]
  },
  {
   "cell_type": "code",
   "execution_count": null,
   "metadata": {},
   "outputs": [],
   "source": [
    "def process_file(input_filename, output_filename):\n",
    "    with open(input_filename, 'r') as file:\n",
    "        cases = int(file.readline().strip())\n",
    "        results = []\n",
    "        for _ in range(cases):\n",
    "            x = int(file.readline().strip())\n",
    "            results.append(min_jumps(x))\n",
    "    \n",
    "    with open(output_filename, 'w') as file:\n",
    "        for result in results:\n",
    "            file.write(str(result) + '\\n')"
   ]
  },
  {
   "cell_type": "code",
   "execution_count": 18,
   "metadata": {},
   "outputs": [],
   "source": [
    "# Nombre de los archivos de entrada y salida\n",
    "input_filename = 'input.txt'\n",
    "output_filename = 'output.txt'\n",
    "\n",
    "# Procesar el archivo de entrada y escribir en el archivo de salida\n",
    "process_file(input_filename, output_filename)\n"
   ]
  },
  {
   "cell_type": "code",
   "execution_count": null,
   "metadata": {},
   "outputs": [],
   "source": []
  }
 ],
 "metadata": {
  "kernelspec": {
   "display_name": "gbm-env",
   "language": "python",
   "name": "python3"
  },
  "language_info": {
   "codemirror_mode": {
    "name": "ipython",
    "version": 3
   },
   "file_extension": ".py",
   "mimetype": "text/x-python",
   "name": "python",
   "nbconvert_exporter": "python",
   "pygments_lexer": "ipython3",
   "version": "3.10.2"
  }
 },
 "nbformat": 4,
 "nbformat_minor": 2
}

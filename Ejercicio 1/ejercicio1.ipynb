{
 "cells": [
  {
   "cell_type": "markdown",
   "metadata": {},
   "source": [
    "### Ejercicio 1.\n",
    "\n",
    "###### Unpalíndromo, también llamado palíndromo, palíndroma o palindroma, es una palabra, o frase que se lee igual en un sentido que en otro. Ejemplo ANA se puede leer al derecho y alrevés y significa lo mismo.\n",
    "###### ● Punto extra- No puede usar ciclos\n",
    "###### ● Punto extra- No más de 5 líneas de código"
   ]
  },
  {
   "cell_type": "code",
   "execution_count": 6,
   "metadata": {},
   "outputs": [
    {
     "name": "stdout",
     "output_type": "stream",
     "text": [
      "False\n",
      "True\n"
     ]
    }
   ],
   "source": [
    "def es_palindromo(s: str):\n",
    "    return s == s[::-1]\n",
    "\n",
    "print(es_palindromo(\"rap\"))\n",
    "print(es_palindromo(\"radar\"))"
   ]
  }
 ],
 "metadata": {
  "kernelspec": {
   "display_name": "gbm-env",
   "language": "python",
   "name": "python3"
  },
  "language_info": {
   "codemirror_mode": {
    "name": "ipython",
    "version": 3
   },
   "file_extension": ".py",
   "mimetype": "text/x-python",
   "name": "python",
   "nbconvert_exporter": "python",
   "pygments_lexer": "ipython3",
   "version": "3.10.2"
  }
 },
 "nbformat": 4,
 "nbformat_minor": 2
}
